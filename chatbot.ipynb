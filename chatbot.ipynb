{
 "cells": [
  {
   "cell_type": "code",
   "id": "initial_id",
   "metadata": {
    "collapsed": true,
    "ExecuteTime": {
     "end_time": "2024-06-12T13:27:46.219744Z",
     "start_time": "2024-06-12T13:27:46.197815Z"
    }
   },
   "source": [
    "import pandas as pd\n",
    "from sklearn.feature_extraction.text import TfidfVectorizer\n",
    "from sklearn.metrics.pairwise import cosine_similarity"
   ],
   "outputs": [],
   "execution_count": 6
  },
  {
   "metadata": {
    "ExecuteTime": {
     "end_time": "2024-06-12T13:30:38.980581Z",
     "start_time": "2024-06-12T13:30:37.594751Z"
    }
   },
   "cell_type": "code",
   "source": [
    "data = pd.read_csv('sample_data_10k.csv')\n",
    "\n",
    "# Combine relevant columns for product description\n",
    "data['description'] = data['About Product'].fillna('') + ' ' + \\\n",
    "                      data['Product Specification'].fillna('') + ' ' + \\\n",
    "                      data['Product Details'].fillna('')\n",
    "\n",
    "# Initialize the TF-IDF vectorizer\n",
    "vectorizer = TfidfVectorizer(stop_words='english')\n",
    "tfidf_matrix = vectorizer.fit_transform(data['description'])"
   ],
   "id": "34e256cf3b8fc8ab",
   "outputs": [],
   "execution_count": 8
  },
  {
   "metadata": {
    "ExecuteTime": {
     "end_time": "2024-06-12T13:30:50.325336Z",
     "start_time": "2024-06-12T13:30:50.319334Z"
    }
   },
   "cell_type": "code",
   "source": [
    "def recommend_products(user_request):\n",
    "    user_tfidf = vectorizer.transform([user_request])\n",
    "    cosine_similarities = cosine_similarity(user_tfidf, tfidf_matrix).flatten()\n",
    "    top_indices = cosine_similarities.argsort()[-5:][::-1]\n",
    "    recommended_products = data.iloc[top_indices]\n",
    "\n",
    "    response = \"Here are some products that match your request:\\n\"\n",
    "    for idx, product in recommended_products.iterrows():\n",
    "        response += f\"{product['Product Name']} - {product['About Product']}\\n\"\n",
    "        response += f\"Price: {product['Selling Price']}\\n\"\n",
    "        response += \"------------\\n\"\n",
    "\n",
    "    return response"
   ],
   "id": "1d4543545d0a3f1",
   "outputs": [],
   "execution_count": 9
  },
  {
   "metadata": {
    "ExecuteTime": {
     "end_time": "2024-06-12T13:30:59.007197Z",
     "start_time": "2024-06-12T13:30:58.990164Z"
    }
   },
   "cell_type": "code",
   "source": [
    "def get_product_details(product_name):\n",
    "    product = data[data['Product Name'].str.contains(product_name, case=False)].iloc[0]\n",
    "    details = f\"Product: {product['Product Name']}\\n\"\n",
    "    details += f\"Description: {product['About Product']}\\n\"\n",
    "    details += f\"Price: {product['Selling Price']}\\n\"\n",
    "    details += f\"Category: {product['Category']}\\n\"\n",
    "    return details"
   ],
   "id": "d291e75e06107fa5",
   "outputs": [],
   "execution_count": 10
  }
 ],
 "metadata": {
  "kernelspec": {
   "display_name": "Python 3",
   "language": "python",
   "name": "python3"
  },
  "language_info": {
   "codemirror_mode": {
    "name": "ipython",
    "version": 2
   },
   "file_extension": ".py",
   "mimetype": "text/x-python",
   "name": "python",
   "nbconvert_exporter": "python",
   "pygments_lexer": "ipython2",
   "version": "2.7.6"
  }
 },
 "nbformat": 4,
 "nbformat_minor": 5
}
